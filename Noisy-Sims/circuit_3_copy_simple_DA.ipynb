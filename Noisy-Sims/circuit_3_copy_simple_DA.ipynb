{
 "cells": [
  {
   "cell_type": "code",
   "execution_count": 2,
   "id": "3b267719-5b0a-4f2a-b357-93080cfc69ca",
   "metadata": {},
   "outputs": [
    {
     "name": "stderr",
     "output_type": "stream",
     "text": [
      "ibmqfactory.load_account:WARNING:2022-08-29 02:49:39,541: Credentials are already in use. The existing account in the session will be replaced.\n"
     ]
    }
   ],
   "source": [
    "import math\n",
    "# Importing standard Qiskit libraries and configuring account\n",
    "import matplotlib.pyplot as plt\n",
    "import numpy as np\n",
    "from math import pi\n",
    "from qiskit import QuantumCircuit, execute, Aer, IBMQ\n",
    "from qiskit.compiler import transpile, assemble\n",
    "from qiskit.tools.jupyter import *\n",
    "from qiskit.visualization import *\n",
    "# Loading your IBM Q account(s)\n",
    "from qiskit import QuantumCircuit, ClassicalRegister, QuantumRegister, execute\n",
    "from qiskit.tools.visualization import circuit_drawer\n",
    "from qiskit.quantum_info import state_fidelity\n",
    "from qiskit import BasicAer\n",
    "IBMQ.load_account() \n",
    "backend = BasicAer.get_backend('unitary_simulator')\n",
    "provider = IBMQ.get_provider(hub='ibm-q-research')\n",
    "\n",
    "\n",
    "\n",
    "#%matplotlib inline\n",
    "# Importing standard Qiskit libraries and configuring account\n",
    "from qiskit import QuantumCircuit, execute, Aer\n",
    "from qiskit.compiler import transpile, assemble\n",
    "from qiskit.tools.jupyter import *\n",
    "from qiskit.visualization import *\n",
    "from qiskit import QuantumRegister, ClassicalRegister, QuantumCircuit,  execute, BasicAer, Aer\n",
    "\n",
    "#error mitigation toolbox\n",
    "#from qiskit.ignis.mitigation.measurement import complete_meas_cal, CompleteMeasFitter"
   ]
  },
  {
   "cell_type": "code",
   "execution_count": 3,
   "id": "3708b15d-54e8-47b7-82a7-5c97e19abaf6",
   "metadata": {},
   "outputs": [
    {
     "name": "stdout",
     "output_type": "stream",
     "text": [
      "[[0.4993+0.026j  0.4968-0.0563j 0.4086-0.2881j 0.    +0.j\n",
      "  0.    +0.j     0.    +0.j     0.    +0.j     0.0574+0.4967j]]\n",
      "[[ 0.4993-0.026j  -0.2887-0.0006j -0.2887-0.0006j  0.2882+0.0162j\n",
      "  -0.2887-0.0006j  0.2882+0.0162j  0.2882+0.0162j -0.497 -0.0551j]]\n",
      "[[-0.1338  0.1338 -2.4681  0.7817 -0.7817  0.7156 -0.7156  2.4681]\n",
      " [-2.468   2.468   0.1338  0.7157 -0.7157 -0.7819  0.7819 -0.1338]]\n"
     ]
    },
    {
     "name": "stderr",
     "output_type": "stream",
     "text": [
      "/tmp/ipykernel_138/346370027.py:5: DeprecationWarning: `np.complex` is a deprecated alias for the builtin `complex`. To silence this warning, use `complex` by itself. Doing this will not modify any behavior and is safe. If you specifically wanted the numpy scalar type, use `np.complex128` here.\n",
      "Deprecated in NumPy 1.20; for more details and guidance: https://numpy.org/devdocs/release/1.20.0-notes.html#deprecations\n",
      "  data = data.applymap(lambda s: np.complex(s.replace('i', 'j'))).values\n"
     ]
    }
   ],
   "source": [
    "import pandas as pd\n",
    "filename = '3outcome_POVM.csv'\n",
    "filename2 = '3outcome_est.csv'\n",
    "data = pd.read_csv(filename, sep=\",\", header=None)\n",
    "data = data.applymap(lambda s: np.complex(s.replace('i', 'j'))).values\n",
    "\n",
    "data2 = pd.read_csv(filename2, sep=\",\", header=None)\n",
    "#data2 = data2.applymap(lambda s: ).values\n",
    "\n",
    "\n",
    "print(data[[0]])\n",
    "\n",
    "datadag=data.conj().T\n",
    "print(datadag[[0]])\n",
    "\n",
    "data2=np.array(data2)\n",
    "print(data2)"
   ]
  },
  {
   "cell_type": "code",
   "execution_count": 4,
   "id": "8df2cf75-b69a-4839-aa66-9ebf3caaffa1",
   "metadata": {},
   "outputs": [],
   "source": [
    "#name I decided to give our 'quantum computer' in simulations\n",
    "cname='ibmq_edendork'\n"
   ]
  },
  {
   "cell_type": "code",
   "execution_count": 5,
   "id": "36b7d774-a1b6-47d1-9869-fc43a431dbb7",
   "metadata": {},
   "outputs": [],
   "source": [
    "\n",
    "from scipy import stats\n",
    "from scipy.optimize import fsolve"
   ]
  },
  {
   "cell_type": "code",
   "execution_count": 7,
   "id": "66ef9a4b-d52f-4288-9fc2-66cf320690f7",
   "metadata": {},
   "outputs": [
    {
     "name": "stdout",
     "output_type": "stream",
     "text": [
      "Real MSE =  0.013500184400387635\n",
      "Bootstrapped MSE =  0.013557208853820796 +/- 0.00042287346761237595\n"
     ]
    }
   ],
   "source": [
    "#data analysis\n",
    "#two noise strings, one for large noise one for small\n",
    "noisestring=str('aug22_noiseth0n0.001')\n",
    "#noisestring=str('aug22_noiseth0n0.005')\n",
    "th=0\n",
    "\n",
    "#first load training data to get the slopes and intercepts again\n",
    "\n",
    "F = np.load(str(cname+str(\"_LR\")+str(\"/\")+noisestring+str(\"_3Q_est_X\")+str(\"/\")+str(\"training_data\")+str(\".npz\")))\n",
    "FY = np.load(str(cname+str(\"_LR\")+str(\"/\")+noisestring+str(\"_3Q_est_Y\")+str(\"/\")+str(\"training_data\")+str(\".npz\")))\n",
    "\n",
    "\n",
    "a=F['arr_0']\n",
    "aY=FY['arr_0']\n",
    "noisyx=np.transpose(a)[0]\n",
    "truex=np.transpose(a)[1]\n",
    "noisyy=np.transpose(aY)[0]\n",
    "truey=np.transpose(aY)[1]\n",
    "\n",
    "\n",
    "res3QX = stats.linregress(np.array(noisyx),np.array(truex))\n",
    "res3QY = stats.linregress(np.array(noisyy),np.array(truey))\n",
    "\n",
    "#parameters from above\n",
    "cx=res3QX.intercept\n",
    "mx=res3QX.slope\n",
    "cy=res3QY.intercept\n",
    "my=res3QY.slope\n",
    "\n",
    "#then load data data to get the total number of counts in each\n",
    "FN = np.load(str(cname+str(\"_LR\")+str(\"/\")+noisestring+str(\"_3Q_nvec\")+str(\"/\")+str(\"nvec_data\")+str(\".npz\")))\n",
    "a=FN['arr_0']\n",
    "\n",
    "\n",
    "\n",
    "n000T=0\n",
    "n001T=0\n",
    "n010T=0\n",
    "n011T=0\n",
    "n100T=0\n",
    "n101T=0\n",
    "n110T=0\n",
    "n111T=0\n",
    "\n",
    "\n",
    "#real mse obtained here\n",
    "msereal=[]\n",
    "shotsin=341\n",
    "for ii in range(1000):\n",
    "    n000=a[ii][0]\n",
    "    n000T=n000T+a[ii][0]\n",
    "    n001=a[ii][1]\n",
    "    n001T=n001T+a[ii][1]\n",
    "    n010=a[ii][2]\n",
    "    n010T=n010T+a[ii][2]\n",
    "    n011=a[ii][3]\n",
    "    n011T=n011T+a[ii][3]\n",
    "    n100=a[ii][4]\n",
    "    n100T=n100T+a[ii][4]\n",
    "    n101=a[ii][5]\n",
    "    n101T=n101T+a[ii][5]\n",
    "    n110=a[ii][6]\n",
    "    n110T=n110T+a[ii][6]\n",
    "    n111=a[ii][7]\n",
    "    n111T=n111T+a[ii][7]\n",
    "    estx=(n000*data2[0][0]+n001*data2[0][1]+n010*data2[0][2]+n011*data2[0][3]+n100*data2[0][4]+n101*data2[0][5]+n110*data2[0][6]+n111*data2[0][7])/shotsin\n",
    "    esty=(n000*data2[1][0]+n001*data2[1][1]+n010*data2[1][2]+n011*data2[1][3]+n100*data2[1][4]+n101*data2[1][5]+n110*data2[1][6]+n111*data2[1][7])/shotsin\n",
    "    estyA=esty*my+cy\n",
    "    estxA=estx*mx+cx\n",
    "    msereal.append(estxA**2+estyA**2)\n",
    "\n",
    "ntot=n000T+n001T+n010T+n011T+n100T+n101T+n110T+n111T\n",
    "\n",
    "p000=n000T/ntot\n",
    "p001=n001T/ntot\n",
    "p010=n010T/ntot\n",
    "p011=n011T/ntot\n",
    "p100=n100T/ntot\n",
    "p101=n101T/ntot\n",
    "p110=n110T/ntot\n",
    "p111=n111T/ntot\n",
    "\n",
    "\n",
    "mseT=[]\n",
    "\n",
    "for hh in range(500):\n",
    "    mseint=[]\n",
    "    if ii%100==0:\n",
    "        print('Bootstrap run #',ii)\n",
    "    for kk in range(1000):\n",
    "\n",
    "        rv= np.random.multinomial(shotsin, [p000,p001,p010,p011,p100,p101,p110,p111], size=1)\n",
    "        n000=rv[0][0]\n",
    "        n001=rv[0][1]\n",
    "        n010=rv[0][2]\n",
    "        n011=rv[0][3]\n",
    "        n100=rv[0][4]\n",
    "        n101=rv[0][5]\n",
    "        n110=rv[0][6]\n",
    "        n111=rv[0][7]\n",
    "        \n",
    "        \n",
    "        estx=(n000*data2[0][0]+n001*data2[0][1]+n010*data2[0][2]+n011*data2[0][3]+n100*data2[0][4]+n101*data2[0][5]+n110*data2[0][6]+n111*data2[0][7])/shotsin\n",
    "        esty=(n000*data2[1][0]+n001*data2[1][1]+n010*data2[1][2]+n011*data2[1][3]+n100*data2[1][4]+n101*data2[1][5]+n110*data2[1][6]+n111*data2[1][7])/shotsin\n",
    "        estyA=esty*my+cy\n",
    "        estxA=estx*mx+cx\n",
    "        mseint.append(estxA**2+estyA**2)\n",
    "        \n",
    "    mseT.append(np.mean(mseint))\n",
    "    \n",
    "print('Real MSE = ',np.mean(msereal))\n",
    "print('Bootstrapped MSE = ',np.mean(mseT),'+/-',np.std(mseT))"
   ]
  },
  {
   "cell_type": "code",
   "execution_count": null,
   "id": "51838a33-5afa-4da9-b46f-dc83ddf006c7",
   "metadata": {},
   "outputs": [],
   "source": []
  }
 ],
 "metadata": {
  "kernelspec": {
   "display_name": "Python 3 (ipykernel)",
   "language": "python",
   "name": "python3"
  },
  "language_info": {
   "codemirror_mode": {
    "name": "ipython",
    "version": 3
   },
   "file_extension": ".py",
   "mimetype": "text/x-python",
   "name": "python",
   "nbconvert_exporter": "python",
   "pygments_lexer": "ipython3",
   "version": "3.8.13"
  },
  "widgets": {
   "application/vnd.jupyter.widget-state+json": {
    "state": {
     "0d95ed641b8241acb7c3c8c1edde1562": {
      "model_module": "@jupyter-widgets/base",
      "model_module_version": "1.2.0",
      "model_name": "LayoutModel",
      "state": {
       "grid_template_areas": "\n                                       \". . . . right \"\n                                        ",
       "grid_template_columns": "20% 20% 20% 20% 20%",
       "width": "100%"
      }
     },
     "17ff82c7d79b410c8e41eb5b928c52c2": {
      "model_module": "@jupyter-widgets/controls",
      "model_module_version": "1.5.0",
      "model_name": "ButtonModel",
      "state": {
       "button_style": "primary",
       "description": "Clear",
       "layout": "IPY_MODEL_be43fd404d5c48b0bfac26c274433cf1",
       "style": "IPY_MODEL_8684f757906b46f88cf17c3567048a63"
      }
     },
     "210b3bce412b4ca1bb4022c104e63cad": {
      "model_module": "@jupyter-widgets/controls",
      "model_module_version": "1.5.0",
      "model_name": "DescriptionStyleModel",
      "state": {
       "description_width": ""
      }
     },
     "23720e6bef834191b8b37329e27f01d0": {
      "model_module": "@jupyter-widgets/base",
      "model_module_version": "1.2.0",
      "model_name": "LayoutModel",
      "state": {
       "width": "70px"
      }
     },
     "2e25ee137b674f47852906c65b778390": {
      "model_module": "@jupyter-widgets/controls",
      "model_module_version": "1.5.0",
      "model_name": "HTMLModel",
      "state": {
       "layout": "IPY_MODEL_f6c43141b63144e4b1714602e1106269",
       "style": "IPY_MODEL_4856b83849a14c90b3947824c1870cf6",
       "value": "<p style='font-family: IBM Plex Sans, Arial, Helvetica, sans-serif; font-size: 20px; font-weight: medium;'>Circuit Properties</p>"
      }
     },
     "3d537bec1b694217a8009e7a3d46a084": {
      "model_module": "@jupyter-widgets/controls",
      "model_module_version": "1.5.0",
      "model_name": "DescriptionStyleModel",
      "state": {
       "description_width": ""
      }
     },
     "465b0c5d92cc4de0a12ef647ceb7af58": {
      "model_module": "@jupyter-widgets/base",
      "model_module_version": "1.2.0",
      "model_name": "LayoutModel",
      "state": {}
     },
     "4856b83849a14c90b3947824c1870cf6": {
      "model_module": "@jupyter-widgets/controls",
      "model_module_version": "1.5.0",
      "model_name": "DescriptionStyleModel",
      "state": {
       "description_width": ""
      }
     },
     "4c61a939d6a84a27a7c4b06d07c5ccff": {
      "model_module": "@jupyter-widgets/controls",
      "model_module_version": "1.5.0",
      "model_name": "HTMLModel",
      "state": {
       "layout": "IPY_MODEL_79792948ed3c4219956497f7e6b6b689",
       "style": "IPY_MODEL_509f658402314a46bcfb322d10fed22a",
       "value": "<h5>Job ID</h5>"
      }
     },
     "509f658402314a46bcfb322d10fed22a": {
      "model_module": "@jupyter-widgets/controls",
      "model_module_version": "1.5.0",
      "model_name": "DescriptionStyleModel",
      "state": {
       "description_width": ""
      }
     },
     "5b5192368aa6462795f1202a6017c6f0": {
      "model_module": "@jupyter-widgets/controls",
      "model_module_version": "1.5.0",
      "model_name": "HBoxModel",
      "state": {
       "children": [
        "IPY_MODEL_4c61a939d6a84a27a7c4b06d07c5ccff",
        "IPY_MODEL_9af9a0d4b3914f31948b81ed67a1fffd",
        "IPY_MODEL_c5946e29cd6341788a0ed91aaa7bdd80",
        "IPY_MODEL_e45d0f43497344b585c7da7098cc8cb1",
        "IPY_MODEL_f9f2fe88c86149329fbf321df535be10"
       ],
       "layout": "IPY_MODEL_d7bbee1bd58c4f108c09203b0fe34f64"
      }
     },
     "670e476745b946b99f486b16d26eadee": {
      "model_module": "@jupyter-widgets/controls",
      "model_module_version": "1.5.0",
      "model_name": "GridBoxModel",
      "state": {
       "children": [
        "IPY_MODEL_17ff82c7d79b410c8e41eb5b928c52c2"
       ],
       "layout": "IPY_MODEL_0d95ed641b8241acb7c3c8c1edde1562"
      }
     },
     "79792948ed3c4219956497f7e6b6b689": {
      "model_module": "@jupyter-widgets/base",
      "model_module_version": "1.2.0",
      "model_name": "LayoutModel",
      "state": {
       "width": "190px"
      }
     },
     "8684f757906b46f88cf17c3567048a63": {
      "model_module": "@jupyter-widgets/controls",
      "model_module_version": "1.5.0",
      "model_name": "ButtonStyleModel",
      "state": {}
     },
     "9af9a0d4b3914f31948b81ed67a1fffd": {
      "model_module": "@jupyter-widgets/controls",
      "model_module_version": "1.5.0",
      "model_name": "HTMLModel",
      "state": {
       "layout": "IPY_MODEL_c43110817bee45258108db495bc92011",
       "style": "IPY_MODEL_3d537bec1b694217a8009e7a3d46a084",
       "value": "<h5>Backend</h5>"
      }
     },
     "be43fd404d5c48b0bfac26c274433cf1": {
      "model_module": "@jupyter-widgets/base",
      "model_module_version": "1.2.0",
      "model_name": "LayoutModel",
      "state": {
       "grid_area": "right",
       "padding": "0px 0px 0px 0px",
       "width": "70px"
      }
     },
     "c43110817bee45258108db495bc92011": {
      "model_module": "@jupyter-widgets/base",
      "model_module_version": "1.2.0",
      "model_name": "LayoutModel",
      "state": {
       "width": "145px"
      }
     },
     "c5946e29cd6341788a0ed91aaa7bdd80": {
      "model_module": "@jupyter-widgets/controls",
      "model_module_version": "1.5.0",
      "model_name": "HTMLModel",
      "state": {
       "layout": "IPY_MODEL_fec3aee8b9774dd7bd6461bdb3d442eb",
       "style": "IPY_MODEL_ceb92d096617457b8e92ea5b8144e4ba",
       "value": "<h5>Status</h5>"
      }
     },
     "ceb92d096617457b8e92ea5b8144e4ba": {
      "model_module": "@jupyter-widgets/controls",
      "model_module_version": "1.5.0",
      "model_name": "DescriptionStyleModel",
      "state": {
       "description_width": ""
      }
     },
     "d7bbee1bd58c4f108c09203b0fe34f64": {
      "model_module": "@jupyter-widgets/base",
      "model_module_version": "1.2.0",
      "model_name": "LayoutModel",
      "state": {
       "margin": "0px 0px 0px 37px",
       "width": "600px"
      }
     },
     "e45d0f43497344b585c7da7098cc8cb1": {
      "model_module": "@jupyter-widgets/controls",
      "model_module_version": "1.5.0",
      "model_name": "HTMLModel",
      "state": {
       "layout": "IPY_MODEL_23720e6bef834191b8b37329e27f01d0",
       "style": "IPY_MODEL_210b3bce412b4ca1bb4022c104e63cad",
       "value": "<h5>Queue</h5>"
      }
     },
     "f6c43141b63144e4b1714602e1106269": {
      "model_module": "@jupyter-widgets/base",
      "model_module_version": "1.2.0",
      "model_name": "LayoutModel",
      "state": {
       "margin": "0px 0px 10px 0px"
      }
     },
     "f9f2fe88c86149329fbf321df535be10": {
      "model_module": "@jupyter-widgets/controls",
      "model_module_version": "1.5.0",
      "model_name": "HTMLModel",
      "state": {
       "layout": "IPY_MODEL_465b0c5d92cc4de0a12ef647ceb7af58",
       "style": "IPY_MODEL_fc3e7001112949e48447151827549cad",
       "value": "<h5>Message</h5>"
      }
     },
     "fc3e7001112949e48447151827549cad": {
      "model_module": "@jupyter-widgets/controls",
      "model_module_version": "1.5.0",
      "model_name": "DescriptionStyleModel",
      "state": {
       "description_width": ""
      }
     },
     "fec3aee8b9774dd7bd6461bdb3d442eb": {
      "model_module": "@jupyter-widgets/base",
      "model_module_version": "1.2.0",
      "model_name": "LayoutModel",
      "state": {
       "width": "95px"
      }
     }
    },
    "version_major": 2,
    "version_minor": 0
   }
  }
 },
 "nbformat": 4,
 "nbformat_minor": 5
}
