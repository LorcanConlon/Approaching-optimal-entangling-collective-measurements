{
 "cells": [
  {
   "cell_type": "code",
   "execution_count": 3,
   "id": "33239111-6e71-4144-856d-7f5b6a54bc11",
   "metadata": {},
   "outputs": [
    {
     "name": "stderr",
     "output_type": "stream",
     "text": [
      "ibmqfactory.load_account:WARNING:2022-08-29 02:32:31,403: Credentials are already in use. The existing account in the session will be replaced.\n"
     ]
    }
   ],
   "source": [
    "import math\n",
    "# Importing standard Qiskit libraries and configuring account\n",
    "import matplotlib.pyplot as plt\n",
    "import numpy as np\n",
    "from math import pi\n",
    "from qiskit import QuantumCircuit, execute, Aer, IBMQ\n",
    "from qiskit.compiler import transpile, assemble\n",
    "from qiskit.tools.jupyter import *\n",
    "from qiskit.visualization import *\n",
    "# Loading your IBM Q account(s)\n",
    "from qiskit import QuantumCircuit, ClassicalRegister, QuantumRegister, execute\n",
    "from qiskit.tools.visualization import circuit_drawer\n",
    "from qiskit.quantum_info import state_fidelity\n",
    "from qiskit import BasicAer\n",
    "IBMQ.load_account() \n",
    "backend = BasicAer.get_backend('unitary_simulator')\n",
    "provider = IBMQ.get_provider(hub='ibm-q-research')\n",
    "\n",
    "\n",
    "\n",
    "#%matplotlib inline\n",
    "# Importing standard Qiskit libraries and configuring account\n",
    "from qiskit import QuantumCircuit, execute, Aer\n",
    "from qiskit.compiler import transpile, assemble\n",
    "from qiskit.tools.jupyter import *\n",
    "from qiskit.visualization import *\n",
    "from qiskit import QuantumRegister, ClassicalRegister, QuantumCircuit,  execute, BasicAer, Aer\n",
    "\n",
    "#error mitigation toolbox\n",
    "#from qiskit.ignis.mitigation.measurement import complete_meas_cal, CompleteMeasFitter"
   ]
  },
  {
   "cell_type": "code",
   "execution_count": 6,
   "id": "a59ee322-7a12-4a1d-bfb4-bc9ea738a78a",
   "metadata": {},
   "outputs": [],
   "source": [
    "#name I decided to give our 'quantum computer' in simulations\n",
    "cname='ibmq_edendork'\n"
   ]
  },
  {
   "cell_type": "code",
   "execution_count": 7,
   "id": "19d98b11-75d5-4020-a56a-d0869fcc75ee",
   "metadata": {},
   "outputs": [
    {
     "name": "stderr",
     "output_type": "stream",
     "text": [
      "/tmp/ipykernel_77/1267672327.py:5: DeprecationWarning: `np.complex` is a deprecated alias for the builtin `complex`. To silence this warning, use `complex` by itself. Doing this will not modify any behavior and is safe. If you specifically wanted the numpy scalar type, use `np.complex128` here.\n",
      "Deprecated in NumPy 1.20; for more details and guidance: https://numpy.org/devdocs/release/1.20.0-notes.html#deprecations\n",
      "  data = data.applymap(lambda s: np.complex(s.replace('i', 'j'))).values\n"
     ]
    },
    {
     "name": "stdout",
     "output_type": "stream",
     "text": [
      "[[-3.89824411e-01+1.78833700e-03j  3.97786032e-01+1.54724660e-02j\n",
      "   4.21416004e-04+1.68334768e-04j  6.14906101e-01+5.13039817e-03j\n",
      "  -2.13202500e-04+2.88646828e-05j -6.58074047e-05+2.95180540e-04j\n",
      "  -1.12063622e-04-3.90059843e-05j  1.29468152e-04+1.94755579e-05j\n",
      "   7.12406470e-05-1.68835213e-04j  2.21234948e-05+1.58524548e-04j\n",
      "   4.09588597e-04-3.29233540e-04j -5.17396866e-06-2.97844432e-04j\n",
      "  -3.16162064e-03-2.16035052e-02j  5.09021262e-04+2.14657173e-02j\n",
      "  -3.89328823e-01-1.22582240e-02j  3.98438895e-01-2.34071517e-03j]]\n"
     ]
    }
   ],
   "source": [
    "import pandas as pd\n",
    "filename = '4outcome_POVM.csv'\n",
    "filename2 = '4outcome_est.csv'\n",
    "data = pd.read_csv(filename, sep=\",\", header=None)\n",
    "data = data.applymap(lambda s: np.complex(s.replace('i', 'j'))).values\n",
    "\n",
    "data2 = pd.read_csv(filename2, sep=\",\", header=None)\n",
    "#data2 = data2.applymap(lambda s: ).values\n",
    "\n",
    "\n",
    "print(data[[0]])\n",
    "\n",
    "datadag=data.conj().T\n",
    "\n",
    "data2=np.array(data2)\n"
   ]
  },
  {
   "cell_type": "code",
   "execution_count": 9,
   "id": "f2975c9f-fea5-409d-aa0d-ced1f4a46be9",
   "metadata": {},
   "outputs": [],
   "source": [
    "\n",
    "from scipy import stats\n",
    "from scipy.optimize import fsolve"
   ]
  },
  {
   "cell_type": "code",
   "execution_count": 12,
   "id": "4cb7505f-48d3-4134-9d0e-8068f6f75a11",
   "metadata": {},
   "outputs": [
    {
     "name": "stdout",
     "output_type": "stream",
     "text": [
      "RealMSE =  0.10503203031307323\n",
      "Bootstrapped MSE =  0.10135740690754727 +/- 0.0031665213123904306\n"
     ]
    }
   ],
   "source": [
    "#data analysis\n",
    "#two noise strings, one for large noise one for small\n",
    "noisestring=str('aug22_noiseth0n0.001')\n",
    "noisestring=str('aug22_noiseth0n0.005')\n",
    "th=0\n",
    "\n",
    "#first load training data to get the slopes and intercepts again\n",
    "\n",
    "F = np.load(str(cname+str(\"_LR\")+str(\"/\")+noisestring+str(\"_4Q_est_X\")+str(\"/\")+str(\"training_data\")+str(\".npz\")))\n",
    "FY = np.load(str(cname+str(\"_LR\")+str(\"/\")+noisestring+str(\"_4Q_est_Y\")+str(\"/\")+str(\"training_data\")+str(\".npz\")))\n",
    "\n",
    "\n",
    "a=F['arr_0']\n",
    "aY=FY['arr_0']\n",
    "noisyx=np.transpose(a)[0]\n",
    "truex=np.transpose(a)[1]\n",
    "noisyy=np.transpose(aY)[0]\n",
    "truey=np.transpose(aY)[1]\n",
    "\n",
    "\n",
    "res4QX = stats.linregress(np.array(noisyx),np.array(truex))\n",
    "res4QY = stats.linregress(np.array(noisyy),np.array(truey))\n",
    "\n",
    "#parameters from above\n",
    "cx=res4QX.intercept\n",
    "mx=res4QX.slope\n",
    "cy=res4QY.intercept\n",
    "my=res4QY.slope\n",
    "\n",
    "\n",
    "\n",
    "#then load data data to get the total number of counts in each for bootstrapping to get the error bars\n",
    "FN = np.load(str(cname+str(\"_LR\")+str(\"/\")+noisestring+str(\"_4Q_nvec\")+str(\"/\")+str(\"nvec_data\")+str(\".npz\")))\n",
    "a=FN['arr_0']\n",
    "\n",
    "\n",
    "\n",
    "n0000T=0\n",
    "n0001T=0\n",
    "n0010T=0\n",
    "n0011T=0\n",
    "n0100T=0\n",
    "n0101T=0\n",
    "n0110T=0\n",
    "n0111T=0\n",
    "n1000T=0\n",
    "n1001T=0\n",
    "n1010T=0\n",
    "n1011T=0\n",
    "n1100T=0\n",
    "n1101T=0\n",
    "n1110T=0\n",
    "n1111T=0\n",
    "\n",
    "#get the real MSE here\n",
    "msereal=[]\n",
    "shotsin=256\n",
    "for ii in range(1000):\n",
    "    n0000=a[ii][0]\n",
    "    n0000T=n0000T+a[ii][0]\n",
    "    n0001=a[ii][1]\n",
    "    n0001T=n0001T+a[ii][1]\n",
    "    n0010=a[ii][2]\n",
    "    n0010T=n0010T+a[ii][2]\n",
    "    n0011=a[ii][3]\n",
    "    n0011T=n0011T+a[ii][3]\n",
    "    n0100=a[ii][4]\n",
    "    n0100T=n0100T+a[ii][4]\n",
    "    n0101=a[ii][5]\n",
    "    n0101T=n0101T+a[ii][5]\n",
    "    n0110=a[ii][6]\n",
    "    n0110T=n0110T+a[ii][6]\n",
    "    n0111=a[ii][7]\n",
    "    n0111T=n0111T+a[ii][7]\n",
    "    n1000=a[ii][8]\n",
    "    n1000T=n1000T+a[ii][8]\n",
    "    n1001=a[ii][9]\n",
    "    n1001T=n1001T+a[ii][9]\n",
    "    n1010=a[ii][10]\n",
    "    n1010T=n1010T+a[ii][10]\n",
    "    n1011=a[ii][11]\n",
    "    n1011T=n1011T+a[ii][11]\n",
    "    n1100=a[ii][12]\n",
    "    n1100T=n1100T+a[ii][12]\n",
    "    n1101=a[ii][13]\n",
    "    n1101T=n1101T+a[ii][13]\n",
    "    n1110=a[ii][14]\n",
    "    n1110T=n1110T+a[ii][14]\n",
    "    n1111=a[ii][15]\n",
    "    n1111T=n1111T+a[ii][15]\n",
    "    \n",
    "    estx=(n0000*data2[0][0]+n0001*data2[0][1]+n0010*data2[0][2]+n0011*data2[0][3]+n0100*data2[0][4]+n0101*data2[0][5]+n0110*data2[0][6]+n0111*data2[0][7]+n1000*data2[0][8]+n1001*data2[0][9]+n1010*data2[0][10]+n1011*data2[0][11]+n1100*data2[0][12]+n1101*data2[0][13]+n1110*data2[0][14]+n1111*data2[0][15])/shotsin\n",
    "    esty=(n0000*data2[1][0]+n0001*data2[1][1]+n0010*data2[1][2]+n0011*data2[1][3]+n0100*data2[1][4]+n0101*data2[1][5]+n0110*data2[1][6]+n0111*data2[1][7]+n1000*data2[1][8]+n1001*data2[1][9]+n1010*data2[1][10]+n1011*data2[1][11]+n1100*data2[1][12]+n1101*data2[1][13]+n1110*data2[1][14]+n1111*data2[1][15])/shotsin\n",
    "    estyA=esty*my+cy\n",
    "    estxA=estx*mx+cx\n",
    "    msereal.append(estxA**2+estyA**2)\n",
    "\n",
    "ntot=n0000T+n0001T+n0010T+n0011T+n0100T+n0101T+n0110T+n0111T+n1000T+n1001T+n1010T+n1011T+n1100T+n1101T+n1110T+n1111T\n",
    "\n",
    "p0000=n0000T/ntot\n",
    "p0001=n0001T/ntot\n",
    "p0010=n0010T/ntot\n",
    "p0011=n0011T/ntot\n",
    "p0100=n0100T/ntot\n",
    "p0101=n0101T/ntot\n",
    "p0110=n0110T/ntot\n",
    "p0111=n0111T/ntot\n",
    "\n",
    "p1000=n1000T/ntot\n",
    "p1001=n1001T/ntot\n",
    "p1010=n1010T/ntot\n",
    "p1011=n1011T/ntot\n",
    "p1100=n1100T/ntot\n",
    "p1101=n1101T/ntot\n",
    "p1110=n1110T/ntot\n",
    "p1111=n1111T/ntot\n",
    "\n",
    "mseT=[]\n",
    "\n",
    "for hh in range(500):\n",
    "    mseint=[]\n",
    "    if ii%100==0:\n",
    "        print('Bootstrap run #',ii)\n",
    "    for kk in range(1000):\n",
    "\n",
    "        rv= np.random.multinomial(shotsin, [p0000,p0001,p0010,p0011,p0100,p0101,p0110,p0111,p1000,p1001,p1010,p1011,p1100,p1101,p1110,p1111], size=1)\n",
    "        n0000=rv[0][0]\n",
    "        n0001=rv[0][1]\n",
    "        n0010=rv[0][2]\n",
    "        n0011=rv[0][3]\n",
    "        n0100=rv[0][4]\n",
    "        n0101=rv[0][5]\n",
    "        n0110=rv[0][6]\n",
    "        n0111=rv[0][7]\n",
    "        \n",
    "        n1000=rv[0][8]\n",
    "        n1001=rv[0][9]\n",
    "        n1010=rv[0][10]\n",
    "        n1011=rv[0][11]\n",
    "        n1100=rv[0][12]\n",
    "        n1101=rv[0][13]\n",
    "        n1110=rv[0][14]\n",
    "        n1111=rv[0][15]\n",
    "        \n",
    "        estx=(n0000*data2[0][0]+n0001*data2[0][1]+n0010*data2[0][2]+n0011*data2[0][3]+n0100*data2[0][4]+n0101*data2[0][5]+n0110*data2[0][6]+n0111*data2[0][7]+n1000*data2[0][8]+n1001*data2[0][9]+n1010*data2[0][10]+n1011*data2[0][11]+n1100*data2[0][12]+n1101*data2[0][13]+n1110*data2[0][14]+n1111*data2[0][15])/shotsin\n",
    "        esty=(n0000*data2[1][0]+n0001*data2[1][1]+n0010*data2[1][2]+n0011*data2[1][3]+n0100*data2[1][4]+n0101*data2[1][5]+n0110*data2[1][6]+n0111*data2[1][7]+n1000*data2[1][8]+n1001*data2[1][9]+n1010*data2[1][10]+n1011*data2[1][11]+n1100*data2[1][12]+n1101*data2[1][13]+n1110*data2[1][14]+n1111*data2[1][15])/shotsin\n",
    "        estyA=esty*my+cy\n",
    "        estxA=estx*mx+cx\n",
    "        mseint.append(estxA**2+estyA**2)\n",
    "        \n",
    "    mseT.append(np.mean(mseint))\n",
    "    \n",
    "print('Real MSE = ',np.mean(msereal))\n",
    "print('Bootstrapped MSE = ',np.mean(mseT),'+/-',np.std(mseT))"
   ]
  },
  {
   "cell_type": "code",
   "execution_count": null,
   "id": "695ff43a-f071-4f5c-9c6a-0c1e4439f0fb",
   "metadata": {},
   "outputs": [],
   "source": []
  }
 ],
 "metadata": {
  "kernelspec": {
   "display_name": "Python 3 (ipykernel)",
   "language": "python",
   "name": "python3"
  },
  "language_info": {
   "codemirror_mode": {
    "name": "ipython",
    "version": 3
   },
   "file_extension": ".py",
   "mimetype": "text/x-python",
   "name": "python",
   "nbconvert_exporter": "python",
   "pygments_lexer": "ipython3",
   "version": "3.8.13"
  },
  "widgets": {
   "application/vnd.jupyter.widget-state+json": {
    "state": {
     "06678ee6bde64307b4f5bbdbe73a9c18": {
      "model_module": "@jupyter-widgets/controls",
      "model_module_version": "1.5.0",
      "model_name": "DescriptionStyleModel",
      "state": {
       "description_width": ""
      }
     },
     "138ee91bc5cd42d6b423ea1efeb2557c": {
      "model_module": "@jupyter-widgets/base",
      "model_module_version": "1.2.0",
      "model_name": "LayoutModel",
      "state": {
       "grid_area": "right",
       "padding": "0px 0px 0px 0px",
       "width": "70px"
      }
     },
     "1b7b9a3c28574de4b6103ff8a66f42b3": {
      "model_module": "@jupyter-widgets/controls",
      "model_module_version": "1.5.0",
      "model_name": "HTMLModel",
      "state": {
       "layout": "IPY_MODEL_44bbfd1898424ff1ac5ee075e61b8bb5",
       "style": "IPY_MODEL_e9a341b3331a48d0b8f3b89191ec9140",
       "value": "<h5>Message</h5>"
      }
     },
     "26b4f8a9757645de9c68eb3f34615629": {
      "model_module": "@jupyter-widgets/controls",
      "model_module_version": "1.5.0",
      "model_name": "HBoxModel",
      "state": {
       "children": [
        "IPY_MODEL_3f953ded04744b2c9ce0dd7c436a8c91",
        "IPY_MODEL_f15d7bc7e35c4586a253a7c854518c58",
        "IPY_MODEL_6f023652359d493cbc838350bfab50f7",
        "IPY_MODEL_32057274cf854fe496b07a1115530d02",
        "IPY_MODEL_1b7b9a3c28574de4b6103ff8a66f42b3"
       ],
       "layout": "IPY_MODEL_bb50b5029cb84d2a81e53e091c7b963e"
      }
     },
     "32057274cf854fe496b07a1115530d02": {
      "model_module": "@jupyter-widgets/controls",
      "model_module_version": "1.5.0",
      "model_name": "HTMLModel",
      "state": {
       "layout": "IPY_MODEL_78cd21fba51a42e08799a631d6dd5aa0",
       "style": "IPY_MODEL_06678ee6bde64307b4f5bbdbe73a9c18",
       "value": "<h5>Queue</h5>"
      }
     },
     "3823151c0fff49f48b3b587c89e7a7b9": {
      "model_module": "@jupyter-widgets/controls",
      "model_module_version": "1.5.0",
      "model_name": "DescriptionStyleModel",
      "state": {
       "description_width": ""
      }
     },
     "3f953ded04744b2c9ce0dd7c436a8c91": {
      "model_module": "@jupyter-widgets/controls",
      "model_module_version": "1.5.0",
      "model_name": "HTMLModel",
      "state": {
       "layout": "IPY_MODEL_e29652aab2a54ec980c7c29cd0e533a4",
       "style": "IPY_MODEL_e194d262c4674c3bad43e6c5a836f125",
       "value": "<h5>Job ID</h5>"
      }
     },
     "41338287aade4cecb74a34d51002cea7": {
      "model_module": "@jupyter-widgets/base",
      "model_module_version": "1.2.0",
      "model_name": "LayoutModel",
      "state": {
       "margin": "0px 0px 10px 0px"
      }
     },
     "44bbfd1898424ff1ac5ee075e61b8bb5": {
      "model_module": "@jupyter-widgets/base",
      "model_module_version": "1.2.0",
      "model_name": "LayoutModel",
      "state": {}
     },
     "648045fa00e044ac92f78f74d7d58095": {
      "model_module": "@jupyter-widgets/controls",
      "model_module_version": "1.5.0",
      "model_name": "GridBoxModel",
      "state": {
       "children": [
        "IPY_MODEL_a61b85bcbc78487483c13f53d740f0bb"
       ],
       "layout": "IPY_MODEL_9402186ed30c4c35a6593020afdd7ed1"
      }
     },
     "68a20c7f8f4a4f7db491f64644be3175": {
      "model_module": "@jupyter-widgets/base",
      "model_module_version": "1.2.0",
      "model_name": "LayoutModel",
      "state": {
       "width": "95px"
      }
     },
     "6f023652359d493cbc838350bfab50f7": {
      "model_module": "@jupyter-widgets/controls",
      "model_module_version": "1.5.0",
      "model_name": "HTMLModel",
      "state": {
       "layout": "IPY_MODEL_68a20c7f8f4a4f7db491f64644be3175",
       "style": "IPY_MODEL_f18f92467d654903bd4127f14ee4ca66",
       "value": "<h5>Status</h5>"
      }
     },
     "78cd21fba51a42e08799a631d6dd5aa0": {
      "model_module": "@jupyter-widgets/base",
      "model_module_version": "1.2.0",
      "model_name": "LayoutModel",
      "state": {
       "width": "70px"
      }
     },
     "85fbb2f4465b4daf948cea26e8fc6abd": {
      "model_module": "@jupyter-widgets/controls",
      "model_module_version": "1.5.0",
      "model_name": "DescriptionStyleModel",
      "state": {
       "description_width": ""
      }
     },
     "9402186ed30c4c35a6593020afdd7ed1": {
      "model_module": "@jupyter-widgets/base",
      "model_module_version": "1.2.0",
      "model_name": "LayoutModel",
      "state": {
       "grid_template_areas": "\n                                       \". . . . right \"\n                                        ",
       "grid_template_columns": "20% 20% 20% 20% 20%",
       "width": "100%"
      }
     },
     "a61b85bcbc78487483c13f53d740f0bb": {
      "model_module": "@jupyter-widgets/controls",
      "model_module_version": "1.5.0",
      "model_name": "ButtonModel",
      "state": {
       "button_style": "primary",
       "description": "Clear",
       "layout": "IPY_MODEL_138ee91bc5cd42d6b423ea1efeb2557c",
       "style": "IPY_MODEL_f4a9fa2bdbd14b8186a8b41da87ac926"
      }
     },
     "bb50b5029cb84d2a81e53e091c7b963e": {
      "model_module": "@jupyter-widgets/base",
      "model_module_version": "1.2.0",
      "model_name": "LayoutModel",
      "state": {
       "margin": "0px 0px 0px 37px",
       "width": "600px"
      }
     },
     "cd295fa941e24cee85232ccc5057ebab": {
      "model_module": "@jupyter-widgets/controls",
      "model_module_version": "1.5.0",
      "model_name": "HTMLModel",
      "state": {
       "layout": "IPY_MODEL_41338287aade4cecb74a34d51002cea7",
       "style": "IPY_MODEL_3823151c0fff49f48b3b587c89e7a7b9",
       "value": "<p style='font-family: IBM Plex Sans, Arial, Helvetica, sans-serif; font-size: 20px; font-weight: medium;'>Circuit Properties</p>"
      }
     },
     "e194d262c4674c3bad43e6c5a836f125": {
      "model_module": "@jupyter-widgets/controls",
      "model_module_version": "1.5.0",
      "model_name": "DescriptionStyleModel",
      "state": {
       "description_width": ""
      }
     },
     "e29652aab2a54ec980c7c29cd0e533a4": {
      "model_module": "@jupyter-widgets/base",
      "model_module_version": "1.2.0",
      "model_name": "LayoutModel",
      "state": {
       "width": "190px"
      }
     },
     "e4ef245f1027485382b1427af0c8a0a8": {
      "model_module": "@jupyter-widgets/base",
      "model_module_version": "1.2.0",
      "model_name": "LayoutModel",
      "state": {
       "width": "145px"
      }
     },
     "e9a341b3331a48d0b8f3b89191ec9140": {
      "model_module": "@jupyter-widgets/controls",
      "model_module_version": "1.5.0",
      "model_name": "DescriptionStyleModel",
      "state": {
       "description_width": ""
      }
     },
     "f15d7bc7e35c4586a253a7c854518c58": {
      "model_module": "@jupyter-widgets/controls",
      "model_module_version": "1.5.0",
      "model_name": "HTMLModel",
      "state": {
       "layout": "IPY_MODEL_e4ef245f1027485382b1427af0c8a0a8",
       "style": "IPY_MODEL_85fbb2f4465b4daf948cea26e8fc6abd",
       "value": "<h5>Backend</h5>"
      }
     },
     "f18f92467d654903bd4127f14ee4ca66": {
      "model_module": "@jupyter-widgets/controls",
      "model_module_version": "1.5.0",
      "model_name": "DescriptionStyleModel",
      "state": {
       "description_width": ""
      }
     },
     "f4a9fa2bdbd14b8186a8b41da87ac926": {
      "model_module": "@jupyter-widgets/controls",
      "model_module_version": "1.5.0",
      "model_name": "ButtonStyleModel",
      "state": {}
     }
    },
    "version_major": 2,
    "version_minor": 0
   }
  }
 },
 "nbformat": 4,
 "nbformat_minor": 5
}
